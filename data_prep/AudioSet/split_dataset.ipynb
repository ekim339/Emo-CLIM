{
 "cells": [
  {
   "attachments": {},
   "cell_type": "markdown",
   "metadata": {},
   "source": [
    "# Setup"
   ]
  },
  {
   "cell_type": "code",
   "execution_count": 1,
   "metadata": {},
   "outputs": [],
   "source": [
    "import pandas as pd"
   ]
  },
  {
   "cell_type": "code",
   "execution_count": 2,
   "metadata": {},
   "outputs": [],
   "source": [
    "# data paths:\n",
    "LABEL_FILES_ORIG_SPLIT = {\n",
    "    \"unbalanced_train\": \"/proj/systewar/datasets/audioset_music_mood/orig_split_label_files/labels_unbalanced_train.csv\",\n",
    "    \"eval\": \"/proj/systewar/datasets/audioset_music_mood/orig_split_label_files/labels_eval.csv\"\n",
    "}"
   ]
  },
  {
   "cell_type": "code",
   "execution_count": 3,
   "metadata": {},
   "outputs": [],
   "source": [
    "# script options:\n",
    "N_class_test = 100     # number of samples per class in (new) test set\n",
    "label_files_new_split = {\n",
    "    \"train\": \"/proj/systewar/datasets/audioset_music_mood/labels_train.csv\",\n",
    "    \"test\": \"/proj/systewar/datasets/audioset_music_mood/labels_test.csv\"\n",
    "}"
   ]
  },
  {
   "attachments": {},
   "cell_type": "markdown",
   "metadata": {},
   "source": [
    "# Split Dataset"
   ]
  },
  {
   "cell_type": "code",
   "execution_count": 4,
   "metadata": {},
   "outputs": [
    {
     "name": "stdout",
     "output_type": "stream",
     "text": [
      "Loading unbalanced_train set labels...\n",
      "Loading eval set labels...\n",
      "\n",
      "<class 'pandas.core.frame.DataFrame'>\n",
      "RangeIndex: 13395 entries, 0 to 13394\n",
      "Data columns (total 3 columns):\n",
      " #   Column       Non-Null Count  Dtype \n",
      "---  ------       --------------  ----- \n",
      " 0   orig_subset  13395 non-null  object\n",
      " 1   file_name    13395 non-null  object\n",
      " 2   label        13395 non-null  object\n",
      "dtypes: object(3)\n",
      "memory usage: 314.1+ KB\n",
      "None\n"
     ]
    }
   ],
   "source": [
    "# load original split labels:\n",
    "labels_orig_split = {}\n",
    "for subset, file_path in LABEL_FILES_ORIG_SPLIT.items():\n",
    "    print(\"Loading {} set labels...\".format(subset))\n",
    "    labels_orig_split[subset] = pd.read_csv(file_path)\n",
    "\n",
    "# concatenate original split labels into a single dataframe:\n",
    "all_labels = pd.concat(labels_orig_split.values(), axis=\"index\")\n",
    "all_labels = all_labels.reset_index(drop=True)\n",
    "print()\n",
    "print(all_labels.info())"
   ]
  },
  {
   "cell_type": "code",
   "execution_count": 5,
   "metadata": {},
   "outputs": [
    {
     "name": "stdout",
     "output_type": "stream",
     "text": [
      "<class 'pandas.core.frame.DataFrame'>\n",
      "Int64Index: 700 entries, 10980 to 3237\n",
      "Data columns (total 3 columns):\n",
      " #   Column       Non-Null Count  Dtype \n",
      "---  ------       --------------  ----- \n",
      " 0   orig_subset  700 non-null    object\n",
      " 1   file_name    700 non-null    object\n",
      " 2   label        700 non-null    object\n",
      "dtypes: object(3)\n",
      "memory usage: 21.9+ KB\n",
      "None\n"
     ]
    }
   ],
   "source": [
    "# group by class label:\n",
    "all_label_groups = all_labels.groupby(by=\"label\", axis=\"index\")\n",
    "\n",
    "# construct stratified test set by randomly sampling from each class:\n",
    "labels_test = all_label_groups.sample(n=N_class_test, random_state=42)\n",
    "print(labels_test.info())\n",
    "\n",
    "# sanity check:\n",
    "for count in labels_test[\"label\"].value_counts():\n",
    "    assert count == N_class_test, \"Error with creating stratified test set.\""
   ]
  },
  {
   "cell_type": "code",
   "execution_count": 6,
   "metadata": {},
   "outputs": [
    {
     "name": "stdout",
     "output_type": "stream",
     "text": [
      "<class 'pandas.core.frame.DataFrame'>\n",
      "Int64Index: 12695 entries, 0 to 13394\n",
      "Data columns (total 3 columns):\n",
      " #   Column       Non-Null Count  Dtype \n",
      "---  ------       --------------  ----- \n",
      " 0   orig_subset  12695 non-null  object\n",
      " 1   file_name    12695 non-null  object\n",
      " 2   label        12695 non-null  object\n",
      "dtypes: object(3)\n",
      "memory usage: 396.7+ KB\n",
      "None\n",
      "\n",
      "Exciting music    4431\n",
      "Tender music      3214\n",
      "Scary music       1253\n",
      "Sad music         1242\n",
      "Happy music       1006\n",
      "Angry music        794\n",
      "Funny music        755\n",
      "Name: label, dtype: int64\n"
     ]
    }
   ],
   "source": [
    "# construct training set:\n",
    "labels_train = all_labels.drop(index=list(labels_test.index))\n",
    "print(labels_train.info())\n",
    "print()\n",
    "print(labels_train[\"label\"].value_counts())\n",
    "\n",
    "# sanity check:\n",
    "assert set(labels_train.index).isdisjoint(set(labels_test.index)), \"Train and test sets are not disjoint.\""
   ]
  },
  {
   "cell_type": "code",
   "execution_count": 7,
   "metadata": {},
   "outputs": [],
   "source": [
    "# reset indices:\n",
    "labels_train = labels_train.reset_index(drop=True)\n",
    "labels_test = labels_test.reset_index(drop=True)\n",
    "\n",
    "# more sanity checks:\n",
    "assert all_labels.shape[0] == labels_train.shape[0] + labels_test.shape[0], \"Train and test set sizes don't add up.\"\n",
    "assert set(labels_train[\"file_name\"].tolist()).isdisjoint(set(labels_test[\"file_name\"].tolist())), \"Train and test sets are not disjoint.\"\n",
    "class_counts_all = all_labels[\"label\"].value_counts()\n",
    "class_counts_train = labels_train[\"label\"].value_counts()\n",
    "class_counts_test = labels_test[\"label\"].value_counts()\n",
    "for class_label in all_label_groups.groups.keys():\n",
    "    assert class_counts_all[class_label] == class_counts_train[class_label] + class_counts_test[class_label], \"Error with splitting dataset.\"\n",
    "\n",
    "# save to files:\n",
    "labels_train.to_csv(label_files_new_split[\"train\"], index=False)\n",
    "labels_test.to_csv(label_files_new_split[\"test\"], index=False)"
   ]
  }
 ],
 "metadata": {
  "kernelspec": {
   "display_name": "multimodal-queries",
   "language": "python",
   "name": "python3"
  },
  "language_info": {
   "codemirror_mode": {
    "name": "ipython",
    "version": 3
   },
   "file_extension": ".py",
   "mimetype": "text/x-python",
   "name": "python",
   "nbconvert_exporter": "python",
   "pygments_lexer": "ipython3",
   "version": "3.10.9"
  },
  "orig_nbformat": 4
 },
 "nbformat": 4,
 "nbformat_minor": 2
}
