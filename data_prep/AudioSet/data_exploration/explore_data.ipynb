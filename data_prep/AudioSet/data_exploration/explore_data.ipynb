{
 "cells": [
  {
   "attachments": {},
   "cell_type": "markdown",
   "metadata": {},
   "source": [
    "# Setup"
   ]
  },
  {
   "cell_type": "code",
   "execution_count": 1,
   "metadata": {},
   "outputs": [],
   "source": [
    "import os\n",
    "import torchaudio\n",
    "import numpy as np\n",
    "import tqdm"
   ]
  },
  {
   "cell_type": "code",
   "execution_count": null,
   "metadata": {},
   "outputs": [],
   "source": [
    "# data paths:\n",
    "DATA_ROOT = \"/Users/eugenekim/Emo-CLIM/dataset/AudioSet\"\n",
    "AUDIO_DIR = \"audio_files\"\n",
    "# audio constants:\n",
    "SAMPLE_RATE = 16000     # in Hz\n",
    "CLIP_LENGTH_EXPECT = 10.0      # in seconds"
   ]
  },
  {
   "cell_type": "code",
   "execution_count": null,
   "metadata": {},
   "outputs": [],
   "source": [
    "# script options:\n",
    "data_subsets = [\"unbalanced_train\", \"balanced_train\", \"eval\"]"
   ]
  },
  {
   "attachments": {},
   "cell_type": "markdown",
   "metadata": {},
   "source": [
    "# Dataset Verification"
   ]
  },
  {
   "cell_type": "code",
   "execution_count": 4,
   "metadata": {},
   "outputs": [
    {
     "name": "stdout",
     "output_type": "stream",
     "text": [
      "Size of unbalanced_train set: 13268\n",
      "Size of balanced_train set: 325\n",
      "Size of eval set: 344\n"
     ]
    }
   ],
   "source": [
    "# extract data file names:\n",
    "data_file_names = {}\n",
    "for subset in data_subsets:\n",
    "    subset_root = os.path.join(DATA_ROOT, AUDIO_DIR, subset)\n",
    "    data_file_names[subset] = [name for name in os.listdir(subset_root) if os.path.isfile(os.path.join(subset_root, name))]\n",
    "    print(\"Size of {} set: {}\".format(subset, len(data_file_names[subset])))"
   ]
  },
  {
   "cell_type": "code",
   "execution_count": 5,
   "metadata": {},
   "outputs": [
    {
     "name": "stderr",
     "output_type": "stream",
     "text": [
      "Verifying unbalanced_train subset...: 100%|██████████| 13268/13268 [00:00<00:00, 24361.61it/s]\n",
      "Verifying balanced_train subset...: 100%|██████████| 325/325 [00:00<00:00, 19203.61it/s]\n",
      "Verifying eval subset...: 100%|██████████| 344/344 [00:00<00:00, 19739.52it/s]\n"
     ]
    }
   ],
   "source": [
    "# verify dataset:\n",
    "for subset in data_subsets:\n",
    "    # check for duplicate file names:\n",
    "    assert len(set(data_file_names[subset])) == len(data_file_names[subset]), \"Duplicate file names found.\"\n",
    "    \n",
    "    for file_name in tqdm.tqdm(data_file_names[subset], total=len(data_file_names[subset]), desc=\"Verifying {} subset...\".format(subset)):\n",
    "        file_path = os.path.join(DATA_ROOT, AUDIO_DIR, subset, file_name)\n",
    "\n",
    "        # verify file name:\n",
    "        assert file_path.endswith(\".wav\"), \"File path does not end in '.wav'\"\n",
    "\n",
    "        # verify sampling rate:\n",
    "        metadata = torchaudio.info(file_path)\n",
    "        assert metadata.sample_rate == SAMPLE_RATE, \"Incorrect sampling rate.\""
   ]
  },
  {
   "attachments": {},
   "cell_type": "markdown",
   "metadata": {},
   "source": [
    "# Dataset Exploration"
   ]
  },
  {
   "cell_type": "code",
   "execution_count": 6,
   "metadata": {},
   "outputs": [
    {
     "name": "stdout",
     "output_type": "stream",
     "text": [
      "\n"
     ]
    },
    {
     "name": "stderr",
     "output_type": "stream",
     "text": [
      "Examining unbalanced_train subset...: 100%|██████████| 13268/13268 [00:00<00:00, 25611.61it/s]\n"
     ]
    },
    {
     "name": "stdout",
     "output_type": "stream",
     "text": [
      "Number of files with unexpected lengths: 397\n",
      "Minimim clip length: 3.3436875s\n",
      "Maximum clip length: 10.0s\n",
      "\n"
     ]
    },
    {
     "name": "stderr",
     "output_type": "stream",
     "text": [
      "Examining balanced_train subset...: 100%|██████████| 325/325 [00:00<00:00, 26621.92it/s]\n"
     ]
    },
    {
     "name": "stdout",
     "output_type": "stream",
     "text": [
      "Number of files with unexpected lengths: 4\n",
      "Minimim clip length: 9.1798125s\n",
      "Maximum clip length: 10.0s\n",
      "\n"
     ]
    },
    {
     "name": "stderr",
     "output_type": "stream",
     "text": [
      "Examining eval subset...: 100%|██████████| 344/344 [00:00<00:00, 27440.34it/s]"
     ]
    },
    {
     "name": "stdout",
     "output_type": "stream",
     "text": [
      "Number of files with unexpected lengths: 4\n",
      "Minimim clip length: 9.1395625s\n",
      "Maximum clip length: 10.0s\n"
     ]
    },
    {
     "name": "stderr",
     "output_type": "stream",
     "text": [
      "\n"
     ]
    }
   ],
   "source": [
    "# count number of audio files with unexpected clip lengths:\n",
    "for subset in data_subsets:\n",
    "    n_unexpect_files = 0\n",
    "    min_clip_length = np.inf\n",
    "    max_clip_length = 0.0\n",
    "    print()\n",
    "    for file_name in tqdm.tqdm(data_file_names[subset], total=len(data_file_names[subset]), desc=\"Examining {} subset...\".format(subset)):\n",
    "        file_path = os.path.join(DATA_ROOT, AUDIO_DIR, subset, file_name)\n",
    "\n",
    "        # get clip length:\n",
    "        metadata = torchaudio.info(file_path)\n",
    "        length = metadata.num_frames / SAMPLE_RATE\n",
    "\n",
    "        # check things:\n",
    "        if length != CLIP_LENGTH_EXPECT:\n",
    "            n_unexpect_files += 1\n",
    "        if length < min_clip_length:\n",
    "            min_clip_length = length\n",
    "        if length > max_clip_length:\n",
    "            max_clip_length = length\n",
    "    \n",
    "    print(\"Number of files with unexpected lengths: {}\".format(n_unexpect_files))\n",
    "    print(\"Minimim clip length: {}s\".format(min_clip_length))\n",
    "    print(\"Maximum clip length: {}s\".format(max_clip_length))"
   ]
  }
 ],
 "metadata": {
  "kernelspec": {
   "display_name": "disney",
   "language": "python",
   "name": "python3"
  },
  "language_info": {
   "codemirror_mode": {
    "name": "ipython",
    "version": 3
   },
   "file_extension": ".py",
   "mimetype": "text/x-python",
   "name": "python",
   "nbconvert_exporter": "python",
   "pygments_lexer": "ipython3",
   "version": "3.10.9"
  },
  "orig_nbformat": 4
 },
 "nbformat": 4,
 "nbformat_minor": 2
}
