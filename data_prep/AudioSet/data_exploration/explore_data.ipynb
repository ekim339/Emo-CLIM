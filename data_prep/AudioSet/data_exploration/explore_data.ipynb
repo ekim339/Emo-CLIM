{
 "cells": [
  {
   "attachments": {},
   "cell_type": "markdown",
   "metadata": {},
   "source": [
    "# Setup"
   ]
  },
  {
   "cell_type": "code",
   "execution_count": 1,
   "metadata": {},
   "outputs": [],
   "source": [
    "import os\n",
    "import torchaudio"
   ]
  },
  {
   "cell_type": "code",
   "execution_count": 2,
   "metadata": {},
   "outputs": [],
   "source": [
    "# data path:\n",
    "DATA_ROOT = \"/proj/systewar/datasets/audioset_music_mood/audio_files\"\n",
    "# audio constants:\n",
    "SAMPLE_RATE = 16000     # in Hz\n",
    "CLIP_LENGTH_EXPECT = 10.0      # in seconds"
   ]
  },
  {
   "cell_type": "code",
   "execution_count": 3,
   "metadata": {},
   "outputs": [],
   "source": [
    "# script options:\n",
    "data_subsets = [\"train\", \"eval\"]"
   ]
  },
  {
   "attachments": {},
   "cell_type": "markdown",
   "metadata": {},
   "source": [
    "# Dataset Verification"
   ]
  },
  {
   "cell_type": "code",
   "execution_count": 4,
   "metadata": {},
   "outputs": [
    {
     "name": "stdout",
     "output_type": "stream",
     "text": [
      "Original size of train set: 13268\n",
      "Original size of eval set: 344\n"
     ]
    }
   ],
   "source": [
    "# extract data file names:\n",
    "data_file_names = {}\n",
    "for subset in data_subsets:\n",
    "    subset_root = os.path.join(DATA_ROOT, subset)\n",
    "    data_file_names[subset] = [name for name in os.listdir(subset_root) if os.path.isfile(os.path.join(subset_root, name))]\n",
    "    print(\"Original size of {} set: {}\".format(subset, len(data_file_names[subset])))"
   ]
  },
  {
   "cell_type": "code",
   "execution_count": 5,
   "metadata": {},
   "outputs": [
    {
     "name": "stdout",
     "output_type": "stream",
     "text": [
      "Veryifing train subset...\n",
      "Veryifing eval subset...\n"
     ]
    }
   ],
   "source": [
    "# verify dataset:\n",
    "for subset in data_subsets:\n",
    "    print(\"Veryifing {} subset...\".format(subset))\n",
    "    for file_name in data_file_names[subset]:\n",
    "        file_path = os.path.join(DATA_ROOT, subset, file_name)\n",
    "        \n",
    "        # verify file name:\n",
    "        assert file_path.endswith(\".wav\"), \"File path does not end in '.wav'\"\n",
    "        # verify sampling rate:\n",
    "        metadata = torchaudio.info(file_path)\n",
    "        assert metadata.sample_rate == SAMPLE_RATE, \"Incorrect sampling rate.\""
   ]
  },
  {
   "attachments": {},
   "cell_type": "markdown",
   "metadata": {},
   "source": [
    "# Dataset Exploration"
   ]
  },
  {
   "cell_type": "code",
   "execution_count": 6,
   "metadata": {},
   "outputs": [
    {
     "name": "stdout",
     "output_type": "stream",
     "text": [
      "Number of files in train set with unexpected lengths: 397\n",
      "Number of files in eval set with unexpected lengths: 4\n"
     ]
    }
   ],
   "source": [
    "# count number of audio files with unexpected clip lengths:\n",
    "for subset in data_subsets:\n",
    "    n_unexpect_files = 0\n",
    "    for file_name in data_file_names[subset]:\n",
    "        file_path = os.path.join(DATA_ROOT, subset, file_name)\n",
    "\n",
    "        # get clip length:\n",
    "        metadata = torchaudio.info(file_path)\n",
    "        length = metadata.num_frames / SAMPLE_RATE\n",
    "        if length != CLIP_LENGTH_EXPECT:\n",
    "            n_unexpect_files += 1\n",
    "    \n",
    "    print(\"Number of files in {} set with unexpected lengths: {}\".format(subset, n_unexpect_files))"
   ]
  }
 ],
 "metadata": {
  "kernelspec": {
   "display_name": "disney",
   "language": "python",
   "name": "python3"
  },
  "language_info": {
   "codemirror_mode": {
    "name": "ipython",
    "version": 3
   },
   "file_extension": ".py",
   "mimetype": "text/x-python",
   "name": "python",
   "nbconvert_exporter": "python",
   "pygments_lexer": "ipython3",
   "version": "3.10.9"
  },
  "orig_nbformat": 4
 },
 "nbformat": 4,
 "nbformat_minor": 2
}
