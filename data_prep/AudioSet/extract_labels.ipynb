{
 "cells": [
  {
   "attachments": {},
   "cell_type": "markdown",
   "metadata": {},
   "source": [
    "# Setup"
   ]
  },
  {
   "cell_type": "code",
   "execution_count": 1,
   "metadata": {},
   "outputs": [],
   "source": [
    "import os\n",
    "import pandas as pd\n",
    "import json\n",
    "import torchaudio"
   ]
  },
  {
   "cell_type": "code",
   "execution_count": null,
   "metadata": {},
   "outputs": [],
   "source": [
    "# data paths:\n",
    "DATA_ROOT = \"/Users/eugenekim/Emo-CLIM/dataset/AudioSet\"\n",
    "AUDIO_DIR = \"audio_files\"\n",
    "ONTOLOGY_FILE = \"/Users/eugenekim/Emo-CLIM/dataset/AudioSet/orig_metadata_files/ontology.json\"\n",
    "ORIG_METADATA_FILES = {\n",
    "    \"unbalanced_train\": \"/Users/eugenekim/Emo-CLIM/dataset/AudioSet/orig_metadata_files/unbalanced_train_segments.csv\",\n",
    "    \"balanced_train\": \"/Users/eugenekim/Emo-CLIM/dataset/AudioSet/orig_metadata_files/balanced_train_segments.csv\",\n",
    "    \"eval\": \"/Users/eugenekim/Emo-CLIM/dataset/AudioSet/orig_metadata_files/eval_segments.csv\"\n",
    "}\n",
    "# AudioSet music mood subset label names:\n",
    "MOOD_LABEL_NAMES = [\"Happy music\", \"Funny music\", \"Sad music\", \"Tender music\", \"Exciting music\", \"Angry music\", \"Scary music\"]"
   ]
  },
  {
   "cell_type": "code",
   "execution_count": null,
   "metadata": {},
   "outputs": [],
   "source": [
    "# script options:\n",
    "data_subsets = [\"balanced_train\", \"eval\"]\n",
    "new_metadata_files = {\n",
    "    \"unbalanced_train\": \"/Users/eugenekim/Emo-CLIM/dataset/AudioSet/metadata_unbalanced_train.csv\",\n",
    "    \"balanced_train\": \"/Users/eugenekim/Emo-CLIM/dataset/AudioSet/metadata_balanced_train.csv\",\n",
    "    \"eval\": \"/Users/eugenekim/Emo-CLIM/dataset/AudioSet/metadata_eval.csv\"\n",
    "}"
   ]
  },
  {
   "attachments": {},
   "cell_type": "markdown",
   "metadata": {},
   "source": [
    "# Get Label IDs"
   ]
  },
  {
   "cell_type": "code",
   "execution_count": 4,
   "metadata": {},
   "outputs": [],
   "source": [
    "# load ontology dictionary:\n",
    "with open(ONTOLOGY_FILE, \"r\") as json_file:\n",
    "    ontology = json.load(json_file)"
   ]
  },
  {
   "cell_type": "code",
   "execution_count": 5,
   "metadata": {},
   "outputs": [
    {
     "name": "stdout",
     "output_type": "stream",
     "text": [
      "Music mood label ids and names:\n",
      "\n",
      "/t/dd00031: Happy music\n",
      "/t/dd00032: Funny music\n",
      "/t/dd00033: Sad music\n",
      "/t/dd00034: Tender music\n",
      "/t/dd00035: Exciting music\n",
      "/t/dd00036: Angry music\n",
      "/t/dd00037: Scary music\n"
     ]
    }
   ],
   "source": [
    "# get label IDs of music mood labels:\n",
    "mood_label_ids = {}\n",
    "for entry in ontology:\n",
    "    if entry[\"name\"] in MOOD_LABEL_NAMES:\n",
    "        if entry[\"name\"] in mood_label_ids.values():\n",
    "            raise RuntimeError(\"'{}' already found in ontology.\".format(entry[\"name\"]))\n",
    "        else:\n",
    "            mood_label_ids[entry[\"id\"]] = entry[\"name\"]\n",
    "\n",
    "print(\"Music mood label ids and names:\\n\")\n",
    "for label_name, label_id in mood_label_ids.items():\n",
    "    print(\"{}: {}\".format(label_name, label_id))"
   ]
  },
  {
   "attachments": {},
   "cell_type": "markdown",
   "metadata": {},
   "source": [
    "# Extract Labels"
   ]
  },
  {
   "cell_type": "code",
   "execution_count": 6,
   "metadata": {},
   "outputs": [
    {
     "name": "stdout",
     "output_type": "stream",
     "text": [
      "Loading balanced_train set metadata...\n",
      "\n"
     ]
    },
    {
     "name": "stderr",
     "output_type": "stream",
     "text": [
      "/tmp/ipykernel_24722/3297832948.py:6: ParserWarning: Falling back to the 'python' engine because the 'c' engine does not support regex separators (separators > 1 char and different from '\\s+' are interpreted as regex); you can avoid this warning by specifying engine='python'.\n",
      "  orig_metadata_dfs[subset] = pd.read_csv(ORIG_METADATA_FILES[subset], sep=\", \", names=col_names, header=None, skiprows=[0, 1, 2])\n"
     ]
    },
    {
     "name": "stdout",
     "output_type": "stream",
     "text": [
      "<class 'pandas.core.frame.DataFrame'>\n",
      "RangeIndex: 22160 entries, 0 to 22159\n",
      "Data columns (total 4 columns):\n",
      " #   Column           Non-Null Count  Dtype  \n",
      "---  ------           --------------  -----  \n",
      " 0   youtube_id       22160 non-null  object \n",
      " 1   start_seconds    22160 non-null  float64\n",
      " 2   end_seconds      22160 non-null  float64\n",
      " 3   positive_labels  22160 non-null  object \n",
      "dtypes: float64(2), object(2)\n",
      "memory usage: 692.6+ KB\n",
      "None\n",
      "\n",
      "\n",
      "Loading eval set metadata...\n",
      "\n",
      "<class 'pandas.core.frame.DataFrame'>\n",
      "RangeIndex: 20371 entries, 0 to 20370\n",
      "Data columns (total 4 columns):\n",
      " #   Column           Non-Null Count  Dtype  \n",
      "---  ------           --------------  -----  \n",
      " 0   youtube_id       20371 non-null  object \n",
      " 1   start_seconds    20371 non-null  float64\n",
      " 2   end_seconds      20371 non-null  float64\n",
      " 3   positive_labels  20371 non-null  object \n",
      "dtypes: float64(2), object(2)\n",
      "memory usage: 636.7+ KB\n",
      "None\n",
      "\n",
      "\n"
     ]
    },
    {
     "name": "stderr",
     "output_type": "stream",
     "text": [
      "/tmp/ipykernel_24722/3297832948.py:6: ParserWarning: Falling back to the 'python' engine because the 'c' engine does not support regex separators (separators > 1 char and different from '\\s+' are interpreted as regex); you can avoid this warning by specifying engine='python'.\n",
      "  orig_metadata_dfs[subset] = pd.read_csv(ORIG_METADATA_FILES[subset], sep=\", \", names=col_names, header=None, skiprows=[0, 1, 2])\n"
     ]
    }
   ],
   "source": [
    "# load original metadata files:\n",
    "orig_metadata_dfs = {}\n",
    "col_names = [\"youtube_id\", \"start_seconds\", \"end_seconds\", \"positive_labels\"]\n",
    "for subset in data_subsets:\n",
    "    print(\"Loading {} set metadata...\\n\".format(subset))\n",
    "    orig_metadata_dfs[subset] = pd.read_csv(ORIG_METADATA_FILES[subset], sep=\", \", names=col_names, header=None, skiprows=[0, 1, 2])\n",
    "    print(orig_metadata_dfs[subset].info())\n",
    "    print(\"\\n\")"
   ]
  },
  {
   "cell_type": "code",
   "execution_count": 7,
   "metadata": {},
   "outputs": [
    {
     "name": "stdout",
     "output_type": "stream",
     "text": [
      "Original size of balanced_train set: 325\n",
      "Original size of eval set: 344\n"
     ]
    }
   ],
   "source": [
    "# extract audio file names:\n",
    "audio_file_names = {}\n",
    "for subset in data_subsets:\n",
    "    subset_root = os.path.join(DATA_ROOT, AUDIO_DIR, subset)\n",
    "    audio_file_names[subset] = [name for name in os.listdir(subset_root) if os.path.isfile(os.path.join(subset_root, name))]\n",
    "    print(\"Original size of {} set: {}\".format(subset, len(audio_file_names[subset])))"
   ]
  },
  {
   "cell_type": "code",
   "execution_count": 8,
   "metadata": {},
   "outputs": [
    {
     "name": "stdout",
     "output_type": "stream",
     "text": [
      "Extracting labels for balanced_train set...\n",
      "Number of audio files with not exactly 1 music mood label: 7\n",
      "\n",
      "<class 'pandas.core.frame.DataFrame'>\n",
      "RangeIndex: 318 entries, 0 to 317\n",
      "Data columns (total 4 columns):\n",
      " #   Column          Non-Null Count  Dtype \n",
      "---  ------          --------------  ----- \n",
      " 0   orig_subset     318 non-null    object\n",
      " 1   file_name       318 non-null    object\n",
      " 2   length_samples  318 non-null    int64 \n",
      " 3   label           318 non-null    object\n",
      "dtypes: int64(1), object(3)\n",
      "memory usage: 10.1+ KB\n",
      "None\n",
      "\n",
      "      orig_subset              file_name  length_samples           label\n",
      "0  balanced_train   Vo6eT8eMMfQ_30.0.wav          160000  Exciting music\n",
      "1  balanced_train  BscoQHJrNm8_170.0.wav          160000     Angry music\n",
      "2  balanced_train  Vk-V0EZ3UIY_150.0.wav          160000     Funny music\n",
      "3  balanced_train   BtdzVnXZ0i4_30.0.wav          160000       Sad music\n",
      "4  balanced_train  0khKvVDyYV4_240.0.wav          160000     Happy music\n",
      "\n",
      "\n",
      "Extracting labels for eval set...\n",
      "Number of audio files with not exactly 1 music mood label: 7\n",
      "\n",
      "<class 'pandas.core.frame.DataFrame'>\n",
      "RangeIndex: 337 entries, 0 to 336\n",
      "Data columns (total 4 columns):\n",
      " #   Column          Non-Null Count  Dtype \n",
      "---  ------          --------------  ----- \n",
      " 0   orig_subset     337 non-null    object\n",
      " 1   file_name       337 non-null    object\n",
      " 2   length_samples  337 non-null    int64 \n",
      " 3   label           337 non-null    object\n",
      "dtypes: int64(1), object(3)\n",
      "memory usage: 10.7+ KB\n",
      "None\n",
      "\n",
      "  orig_subset              file_name  length_samples           label\n",
      "0        eval   rez5KDmIZoc_30.0.wav          160000    Tender music\n",
      "1        eval   ogW2tWCxpPM_30.0.wav          160000     Funny music\n",
      "2        eval    1bSP4wLfMpA_0.0.wav          160000     Scary music\n",
      "3        eval   8akqVDDGsNQ_30.0.wav          160000  Exciting music\n",
      "4        eval  sC7T0sEG6ek_230.0.wav          160000     Angry music\n",
      "\n",
      "\n"
     ]
    }
   ],
   "source": [
    "# extract labels of audio files:\n",
    "new_metadata_dfs = {}\n",
    "for subset in data_subsets:\n",
    "    orig_subset_names = []\n",
    "    file_names = []\n",
    "    clip_length_samples = []\n",
    "    mood_labels = []\n",
    "    n_bad_files = 0     # number of audio files with not exactly 1 music mood label\n",
    "    print(\"Extracting labels for {} set...\".format(subset))\n",
    "    for file_name in audio_file_names[subset]:\n",
    "        # extract youtube ID from file name:\n",
    "        youtube_id_start_time = file_name.replace(\".wav\", \"\")\n",
    "        assert len(youtube_id_start_time) == len(file_name) - len(\".wav\"), \"Error with removing '.wav'.\"\n",
    "        start_time = \"_\" + youtube_id_start_time.split(\"_\")[-1]\n",
    "        youtube_id = youtube_id_start_time.replace(start_time, \"\")\n",
    "        assert len(youtube_id) == len(youtube_id_start_time) - len(start_time), \"Error with removing start_time.\"\n",
    "\n",
    "        # get audio clip length (in samples):\n",
    "        file_path = os.path.join(DATA_ROOT, AUDIO_DIR, subset, file_name)\n",
    "        metadata = torchaudio.info(file_path)\n",
    "        length_samples = metadata.num_frames\n",
    "\n",
    "        # get label ids by querying metadata with youtube id:\n",
    "        label_ids = orig_metadata_dfs[subset][\"positive_labels\"][orig_metadata_dfs[subset][\"youtube_id\"] == youtube_id]\n",
    "\n",
    "        # convert format of labels ids:\n",
    "        label_ids = label_ids.reset_index(drop=True)\n",
    "        label_ids = label_ids[0]\n",
    "        # remove leading/trailing quotation marks:\n",
    "        orig_len = len(label_ids)\n",
    "        label_ids = label_ids.strip('\"')\n",
    "        assert len(label_ids) == orig_len - 2, \"Error with removing leading/trailing quotation marks from labels string.\"\n",
    "        # convert to list:\n",
    "        label_ids = label_ids.split(\",\")\n",
    "        assert type(label_ids) == list, \"Error with converting labels string to list.\"\n",
    "\n",
    "        # extract music mood label (should be exactly 1):\n",
    "        mood_label = None\n",
    "        n_mood_labels = 0\n",
    "        for label_id in label_ids:\n",
    "            if label_id in mood_label_ids.keys():\n",
    "                mood_label = mood_label_ids[label_id]\n",
    "                n_mood_labels += 1\n",
    "        # only keep audio files with exactly 1 music mood label:\n",
    "        if n_mood_labels == 1:\n",
    "            orig_subset_names.append(subset)\n",
    "            file_names.append(file_name)\n",
    "            clip_length_samples.append(length_samples)\n",
    "            mood_labels.append(mood_label)\n",
    "        else:\n",
    "            n_bad_files += 1\n",
    "    \n",
    "    print(\"Number of audio files with not exactly 1 music mood label: {}\".format(n_bad_files))\n",
    "    \n",
    "    # save as dataframe:\n",
    "    new_metadata_dfs[subset] = pd.DataFrame(\n",
    "        data={\n",
    "            \"orig_subset\": orig_subset_names,\n",
    "            \"file_name\": file_names,\n",
    "            \"length_samples\": clip_length_samples,\n",
    "            \"label\": mood_labels\n",
    "        }\n",
    "    )\n",
    "    print()\n",
    "    print(new_metadata_dfs[subset].info())\n",
    "    print()\n",
    "    print(new_metadata_dfs[subset].head())\n",
    "    print(\"\\n\")\n",
    "    # save to file:\n",
    "    new_metadata_dfs[subset].to_csv(new_metadata_files[subset], index=False)"
   ]
  }
 ],
 "metadata": {
  "kernelspec": {
   "display_name": "multimodal-queries",
   "language": "python",
   "name": "python3"
  },
  "language_info": {
   "codemirror_mode": {
    "name": "ipython",
    "version": 3
   },
   "file_extension": ".py",
   "mimetype": "text/x-python",
   "name": "python",
   "nbconvert_exporter": "python",
   "pygments_lexer": "ipython3",
   "version": "3.10.9"
  },
  "orig_nbformat": 4
 },
 "nbformat": 4,
 "nbformat_minor": 2
}
