{
 "cells": [
  {
   "cell_type": "code",
   "execution_count": 2,
   "metadata": {},
   "outputs": [
    {
     "name": "stderr",
     "output_type": "stream",
     "text": [
      "Downloading detection model, please wait. This may take several minutes depending upon your network connection.\n"
     ]
    },
    {
     "name": "stdout",
     "output_type": "stream",
     "text": [
      "Progress: |██████████████████████████████████████████████████| 100.0% Complete"
     ]
    },
    {
     "name": "stderr",
     "output_type": "stream",
     "text": [
      "Downloading recognition model, please wait. This may take several minutes depending upon your network connection.\n"
     ]
    },
    {
     "name": "stdout",
     "output_type": "stream",
     "text": [
      "Progress: |██████████████████████████████████████████████████| 100.0% Complete"
     ]
    }
   ],
   "source": [
    "import easyocr\n",
    "reader = easyocr.Reader(['en'])"
   ]
  },
  {
   "cell_type": "code",
   "execution_count": 16,
   "metadata": {},
   "outputs": [],
   "source": [
    "import os, shutil\n",
    "\n",
    "datapath = \"/proj/systewar/datasets/IMAC/image_dataset/\"\n",
    "outpath = \"/home/avramidi/Desktop/IMAC_clean/\"\n",
    "\n",
    "for emotion in os.listdir(datapath):\n",
    "    class_path = os.path.join(datapath, emotion)\n",
    "    class_path_out = os.path.join(outpath, emotion)\n",
    "    os.makedirs(class_path_out, exist_ok=True)\n",
    "    if emotion.startswith(\".\"):\n",
    "            continue\n",
    "\n",
    "    for img in os.listdir(class_path):\n",
    "        img_path = os.path.join(class_path, img)\n",
    "        img_path_out = os.path.join(class_path_out, img)\n",
    "        if os.path.isfile(img_path_out) or img.startswith(\".\"):\n",
    "            continue\n",
    "\n",
    "        result = reader.readtext(img_path)\n",
    "        texts = [i[1] for i in result]\n",
    "        if 'This photo is no longer available' not in texts:\n",
    "            img_path_out = os.path.join(class_path_out, img)\n",
    "            shutil.copyfile(img_path, img_path_out)"
   ]
  },
  {
   "attachments": {},
   "cell_type": "markdown",
   "metadata": {},
   "source": [
    "The clean IMAC dataset is located at `/home/avramidi/Desktop/IMAC_clean/`"
   ]
  }
 ],
 "metadata": {
  "kernelspec": {
   "display_name": "climur",
   "language": "python",
   "name": "python3"
  },
  "language_info": {
   "codemirror_mode": {
    "name": "ipython",
    "version": 3
   },
   "file_extension": ".py",
   "mimetype": "text/x-python",
   "name": "python",
   "nbconvert_exporter": "python",
   "pygments_lexer": "ipython3",
   "version": "3.9.16"
  },
  "orig_nbformat": 4
 },
 "nbformat": 4,
 "nbformat_minor": 2
}
