{
 "cells": [
  {
   "attachments": {},
   "cell_type": "markdown",
   "metadata": {},
   "source": [
    "# Setup"
   ]
  },
  {
   "cell_type": "code",
   "execution_count": 1,
   "metadata": {},
   "outputs": [],
   "source": [
    "import os\n",
    "import torchaudio\n",
    "import numpy as np\n",
    "import json\n",
    "import tqdm"
   ]
  },
  {
   "cell_type": "code",
   "execution_count": 2,
   "metadata": {},
   "outputs": [],
   "source": [
    "# data paths:\n",
    "DATA_ROOT = \"/proj/systewar/datasets/NSynth\"\n",
    "# audio constants:\n",
    "SAMPLE_RATE = 16000     # in Hz\n",
    "CLIP_LENGTH_EXPECT = 4.0      # in seconds"
   ]
  },
  {
   "cell_type": "code",
   "execution_count": 3,
   "metadata": {},
   "outputs": [],
   "source": [
    "# script options:\n",
    "data_subsets = [\"train\", \"valid\", \"test\"]"
   ]
  },
  {
   "attachments": {},
   "cell_type": "markdown",
   "metadata": {},
   "source": [
    "# Dataset Verification"
   ]
  },
  {
   "cell_type": "code",
   "execution_count": 4,
   "metadata": {},
   "outputs": [
    {
     "name": "stdout",
     "output_type": "stream",
     "text": [
      "Size of train set: 289205\n",
      "Size of valid set: 12678\n",
      "Size of test set: 4096\n"
     ]
    }
   ],
   "source": [
    "# extract data file names and sampling rates from metadata json files:\n",
    "data_file_names = {}\n",
    "for subset in data_subsets:\n",
    "    # load metadata:\n",
    "    metadata_file = os.path.join(DATA_ROOT, f\"nsynth-{subset}\", \"examples.json\")\n",
    "    with open(metadata_file, \"r\") as json_file:\n",
    "        metadata = json.load(json_file)\n",
    "    # extract file names:\n",
    "    data_file_names[subset] = list(metadata.keys())\n",
    "    print(\"Size of {} set: {}\".format(subset, len(data_file_names[subset])))\n",
    "    # verify sampling rates:\n",
    "    sample_rates = [item[\"sample_rate\"] for item in list(metadata.values())]\n",
    "    assert set(sample_rates) == {SAMPLE_RATE}, \"Found unexpected sampling rate.\""
   ]
  },
  {
   "cell_type": "code",
   "execution_count": 5,
   "metadata": {},
   "outputs": [
    {
     "name": "stdout",
     "output_type": "stream",
     "text": [
      "Size of train set: 289205\n",
      "Size of valid set: 12678\n",
      "Size of test set: 4096\n"
     ]
    }
   ],
   "source": [
    "# extract data file names from folders:\n",
    "data_file_names_check = {}\n",
    "for subset in data_subsets:\n",
    "    subset_root = os.path.join(DATA_ROOT, f\"nsynth-{subset}\", \"audio\")\n",
    "    data_file_names_check[subset] = [name for name in os.listdir(subset_root) if os.path.isfile(os.path.join(subset_root, name))]\n",
    "    print(\"Size of {} set: {}\".format(subset, len(data_file_names_check[subset])))"
   ]
  },
  {
   "cell_type": "code",
   "execution_count": 6,
   "metadata": {},
   "outputs": [
    {
     "name": "stderr",
     "output_type": "stream",
     "text": [
      "Verifying train subset...: 100%|██████████| 289205/289205 [00:10<00:00, 28095.66it/s]\n",
      "Verifying valid subset...: 100%|██████████| 12678/12678 [00:00<00:00, 25303.57it/s]\n",
      "Verifying test subset...: 100%|██████████| 4096/4096 [00:00<00:00, 29290.74it/s]\n"
     ]
    }
   ],
   "source": [
    "# verify dataset:\n",
    "for subset in data_subsets:\n",
    "    # check for duplicate file names:\n",
    "    assert len(set(data_file_names_check[subset])) == len(data_file_names_check[subset]), \"Duplicate file names found.\"\n",
    "\n",
    "    for file_name in tqdm.tqdm(data_file_names_check[subset], total=len(data_file_names_check[subset]), desc=\"Verifying {} subset...\".format(subset)):\n",
    "        file_path = os.path.join(DATA_ROOT, f\"nsynth-{subset}\", \"audio\", file_name)\n",
    "\n",
    "        # verify file name:\n",
    "        assert file_path.endswith(\".wav\"), \"File name does not end in '.wav'\"\n",
    "        \n",
    "        # verify sampling rate:\n",
    "        metadata = torchaudio.info(file_path)\n",
    "        assert metadata.sample_rate == SAMPLE_RATE, \"Incorrect sampling rate.\""
   ]
  },
  {
   "attachments": {},
   "cell_type": "markdown",
   "metadata": {},
   "source": [
    "# Dataset Exploration"
   ]
  },
  {
   "cell_type": "code",
   "execution_count": 7,
   "metadata": {},
   "outputs": [
    {
     "name": "stdout",
     "output_type": "stream",
     "text": [
      "\n"
     ]
    },
    {
     "name": "stderr",
     "output_type": "stream",
     "text": [
      "Examining train subset...: 100%|██████████| 289205/289205 [00:10<00:00, 28529.45it/s]\n"
     ]
    },
    {
     "name": "stdout",
     "output_type": "stream",
     "text": [
      "Number of files with unexpected lengths: 0\n",
      "Minimim clip length: 4.0s\n",
      "Maximum clip length: 4.0s\n",
      "\n"
     ]
    },
    {
     "name": "stderr",
     "output_type": "stream",
     "text": [
      "Examining valid subset...: 100%|██████████| 12678/12678 [00:00<00:00, 25796.30it/s]\n"
     ]
    },
    {
     "name": "stdout",
     "output_type": "stream",
     "text": [
      "Number of files with unexpected lengths: 0\n",
      "Minimim clip length: 4.0s\n",
      "Maximum clip length: 4.0s\n",
      "\n"
     ]
    },
    {
     "name": "stderr",
     "output_type": "stream",
     "text": [
      "Examining test subset...: 100%|██████████| 4096/4096 [00:00<00:00, 16424.74it/s]"
     ]
    },
    {
     "name": "stdout",
     "output_type": "stream",
     "text": [
      "Number of files with unexpected lengths: 0\n",
      "Minimim clip length: 4.0s\n",
      "Maximum clip length: 4.0s\n"
     ]
    },
    {
     "name": "stderr",
     "output_type": "stream",
     "text": [
      "\n"
     ]
    }
   ],
   "source": [
    "# count number of audio files with unexpected clip lengths:\n",
    "for subset in data_subsets:\n",
    "    n_unexpect_files = 0\n",
    "    min_clip_length = np.inf\n",
    "    max_clip_length = 0.0\n",
    "    print()\n",
    "    for file_name in tqdm.tqdm(data_file_names_check[subset], total=len(data_file_names_check[subset]), desc=\"Examining {} subset...\".format(subset)):\n",
    "        file_path = os.path.join(DATA_ROOT, f\"nsynth-{subset}\", \"audio\", file_name)\n",
    "\n",
    "        # get clip length:\n",
    "        metadata = torchaudio.info(file_path)\n",
    "        length = metadata.num_frames / SAMPLE_RATE\n",
    "\n",
    "        # check things:\n",
    "        if length != CLIP_LENGTH_EXPECT:\n",
    "            n_unexpect_files += 1\n",
    "        if length < min_clip_length:\n",
    "            min_clip_length = length\n",
    "        if length > max_clip_length:\n",
    "            max_clip_length = length\n",
    "    \n",
    "    print(\"Number of files with unexpected lengths: {}\".format(n_unexpect_files))\n",
    "    print(\"Minimim clip length: {}s\".format(min_clip_length))\n",
    "    print(\"Maximum clip length: {}s\".format(max_clip_length))"
   ]
  }
 ],
 "metadata": {
  "kernelspec": {
   "display_name": "disney",
   "language": "python",
   "name": "python3"
  },
  "language_info": {
   "codemirror_mode": {
    "name": "ipython",
    "version": 3
   },
   "file_extension": ".py",
   "mimetype": "text/x-python",
   "name": "python",
   "nbconvert_exporter": "python",
   "pygments_lexer": "ipython3",
   "version": "3.10.9"
  },
  "orig_nbformat": 4
 },
 "nbformat": 4,
 "nbformat_minor": 2
}
